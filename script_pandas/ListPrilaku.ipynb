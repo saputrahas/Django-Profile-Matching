{
 "cells": [
  {
   "cell_type": "code",
   "execution_count": 1,
   "metadata": {
    "collapsed": true
   },
   "outputs": [],
   "source": [
    "import pandas as pd\n",
    "from orm.models import Karyawan, Kecerdasan, MasaKerja, PendidikanTerakhir, Prilaku, SikapKerja "
   ]
  },
  {
   "cell_type": "code",
   "execution_count": 2,
   "metadata": {
    "collapsed": true
   },
   "outputs": [],
   "source": [
    "def get_gap(df, target):\n",
    "    for idx in range(0,len(df)):\n",
    "        df.loc[idx] = df.loc[idx] - target\n",
    "    return df\n",
    "\n",
    "def bobot(x):\n",
    "    if x == 0 : return 5\n",
    "    elif x == 1 : return 4.5\n",
    "    elif x == -1 : return 4\n",
    "    elif x == 2 : return 3.5\n",
    "    elif x == -2 : return 3 \n",
    "    elif x == 3 : return 2.5\n",
    "    elif x == -3 : return 2\n",
    "    elif x == 4 : return 1.5\n",
    "    elif x == -4 : return 1\n",
    "    \n",
    "def pembobotan(df, cols):\n",
    "    for c in cols:\n",
    "        df[c] = df[c].apply(bobot)\n",
    "    return df \n",
    "\n",
    "#mendapatkan nilai core factor\n",
    "def get_cfsf(df1):\n",
    "    total_column = len(df1.columns)\n",
    "    cfsf = df1.sum(axis=1) / total_column\n",
    "    return cfsf\n",
    "\n",
    "#perhitungan nilai total\n",
    "def result(cf, sf):\n",
    "    cf = cf*0.6\n",
    "    sf = sf*0.4\n",
    "    total = cf + sf\n",
    "    return total"
   ]
  },
  {
   "cell_type": "code",
   "execution_count": 3,
   "metadata": {},
   "outputs": [
    {
     "data": {
      "text/plain": [
       "<QuerySet [<Karyawan: Istisqa' Febriani, SE>, <Karyawan: Hj.Syarifa Rafiah, S.SOS>, <Karyawan: Ir. H. Ikhsan>, <Karyawan: H. Irwan Harimansyah, St. Msi>, <Karyawan: H. Muhammad Yamin, ST>, <Karyawan: Lale Widiahning, ST>, <Karyawan: Wahyuddin Indra, ST>, <Karyawan: Sarhan, ST>, <Karyawan: L. Agus Kurniadi, ST>, <Karyawan: Ni Made Yuyun Cahyani, ST>, <Karyawan: Dewi Kurniawati>, <Karyawan: Syahdan Yusup>, <Karyawan: Khairil Amri>, <Karyawan: Cicilia Evita Pankey>, <Karyawan: Justami>, <Karyawan: Jumarsah>, <Karyawan: Didik Suharianto, A.Md>, <Karyawan: Muslimin>, <Karyawan: Sukiman>, <Karyawan: Basri>]>"
      ]
     },
     "execution_count": 3,
     "metadata": {},
     "output_type": "execute_result"
    }
   ],
   "source": [
    "kr = Karyawan.objects.all()\n",
    "kr "
   ]
  },
  {
   "cell_type": "code",
   "execution_count": 4,
   "metadata": {
    "collapsed": true
   },
   "outputs": [],
   "source": [
    "def ListPrilaku(krywn):\n",
    "    if len(krywn)>0:\n",
    "        target = [3,3,4,5]\n",
    "        cols = ['dominance','influences','steadines','compliance']\n",
    "\n",
    "        krn = {'nama': [a.nama for a in krywn]}\n",
    "        dfkrn = pd.DataFrame(data=krn)\n",
    "\n",
    "        pr = {\n",
    "            cols[0] : [int(a.prilakus.dominance) for a in krywn],\n",
    "            cols[1] : [int(a.prilakus.influences) for a in krywn],\n",
    "            cols[2] : [int(a.prilakus.steadines) for a in krywn],\n",
    "            cols[3] : [int(a.prilakus.compliance) for a in krywn],\n",
    "\n",
    "\n",
    "        }\n",
    "        dfpr = pd.DataFrame(data=pr)\n",
    "\n",
    "        gap = get_gap(dfpr, target)\n",
    "        pb = pembobotan(gap, cols)\n",
    "        new = pd.concat([dfkrn, pb], axis=1)\n",
    "        return new.as_matrix()\n",
    "    else:\n",
    "        return []"
   ]
  },
  {
   "cell_type": "code",
   "execution_count": 5,
   "metadata": {},
   "outputs": [
    {
     "name": "stderr",
     "output_type": "stream",
     "text": [
      "/opt/anaconda3/envs/skripsi/lib/python3.6/site-packages/ipykernel_launcher.py:22: FutureWarning: Method .as_matrix will be removed in a future version. Use .values instead.\n"
     ]
    },
    {
     "data": {
      "text/plain": [
       "array([[\"Istisqa' Febriani, SE\", 4.5, 5.0, 4.0, 5],\n",
       "       ['Hj.Syarifa Rafiah, S.SOS', 3.5, 5.0, 5.0, 2],\n",
       "       ['Ir. H. Ikhsan', 4.5, 4.5, 4.0, 2],\n",
       "       ['H. Irwan Harimansyah, St. Msi', 5.0, 5.0, 5.0, 2],\n",
       "       ['H. Muhammad Yamin, ST', 5.0, 3.5, 5.0, 2],\n",
       "       ['Lale Widiahning, ST', 4.5, 4.5, 4.5, 2],\n",
       "       ['Wahyuddin Indra, ST', 4.5, 5.0, 4.0, 4],\n",
       "       ['Sarhan, ST', 5.0, 4.5, 5.0, 4],\n",
       "       ['L. Agus Kurniadi, ST', 5.0, 4.0, 3.0, 3],\n",
       "       ['Ni Made Yuyun Cahyani, ST', 5.0, 4.5, 3.0, 3],\n",
       "       ['Dewi Kurniawati', 4.5, 5.0, 4.0, 4],\n",
       "       ['Syahdan Yusup', 5.0, 4.5, 5.0, 4],\n",
       "       ['Khairil Amri', 5.0, 4.0, 3.0, 3],\n",
       "       ['Cicilia Evita Pankey', 5.0, 4.5, 3.0, 3],\n",
       "       ['Justami', 5.0, 4.5, 3.0, 3],\n",
       "       ['Jumarsah', 3.5, 4.5, 4.0, 3],\n",
       "       ['Didik Suharianto, A.Md', 5.0, 5.0, 5.0, 4],\n",
       "       ['Muslimin', 3.5, 5.0, 5.0, 2],\n",
       "       ['Sukiman', 5.0, 4.5, 4.0, 4],\n",
       "       ['Basri', 5.0, 5.0, 5.0, 4]], dtype=object)"
      ]
     },
     "execution_count": 5,
     "metadata": {},
     "output_type": "execute_result"
    }
   ],
   "source": [
    "ListPrilaku(kr)"
   ]
  },
  {
   "cell_type": "code",
   "execution_count": null,
   "metadata": {
    "collapsed": true
   },
   "outputs": [],
   "source": []
  }
 ],
 "metadata": {
  "kernelspec": {
   "display_name": "Django Shell-Plus",
   "language": "python",
   "name": "django_extensions"
  },
  "language_info": {
   "codemirror_mode": {
    "name": "ipython",
    "version": 3
   },
   "file_extension": ".py",
   "mimetype": "text/x-python",
   "name": "python",
   "nbconvert_exporter": "python",
   "pygments_lexer": "ipython3",
   "version": "3.6.5"
  }
 },
 "nbformat": 4,
 "nbformat_minor": 2
}
