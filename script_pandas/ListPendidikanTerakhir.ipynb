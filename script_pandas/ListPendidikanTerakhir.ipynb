{
 "cells": [
  {
   "cell_type": "code",
   "execution_count": 1,
   "metadata": {
    "collapsed": true
   },
   "outputs": [],
   "source": [
    "import pandas as pd\n",
    "from orm.models import Karyawan, Kecerdasan, MasaKerja, PendidikanTerakhir, Prilaku, SikapKerja "
   ]
  },
  {
   "cell_type": "code",
   "execution_count": 2,
   "metadata": {
    "collapsed": true
   },
   "outputs": [],
   "source": [
    "def get_gap(df, target):\n",
    "    for idx in range(0,len(df)):\n",
    "        df.loc[idx] = df.loc[idx] - target\n",
    "    return df\n",
    "\n",
    "def bobot(x):\n",
    "    if x == 0 : return 5\n",
    "    elif x == 1 : return 4.5\n",
    "    elif x == -1 : return 4\n",
    "    elif x == 2 : return 3.5\n",
    "    elif x == -2 : return 3 \n",
    "    elif x == 3 : return 2.5\n",
    "    elif x == -3 : return 2\n",
    "    elif x == 4 : return 1.5\n",
    "    elif x == -4 : return 1\n",
    "    \n",
    "def pembobotan(df, cols):\n",
    "    for c in cols:\n",
    "        df[c] = df[c].apply(bobot)\n",
    "    return df \n",
    "\n",
    "#mendapatkan nilai core factor\n",
    "def get_cfsf(df1):\n",
    "    total_column = len(df1.columns)\n",
    "    cfsf = df1.sum(axis=1) / total_column\n",
    "    return cfsf\n",
    "\n",
    "#perhitungan nilai total\n",
    "def result(cf, sf):\n",
    "    cf = cf*0.6\n",
    "    sf = sf*0.4\n",
    "    total = cf + sf\n",
    "    return total"
   ]
  },
  {
   "cell_type": "code",
   "execution_count": 3,
   "metadata": {},
   "outputs": [
    {
     "data": {
      "text/plain": [
       "<QuerySet [<Karyawan: Istisqa' Febriani, SE>, <Karyawan: Hj.Syarifa Rafiah, S.SOS>, <Karyawan: Ir. H. Ikhsan>, <Karyawan: H. Irwan Harimansyah, St. Msi>, <Karyawan: H. Muhammad Yamin, ST>, <Karyawan: Lale Widiahning, ST>, <Karyawan: Wahyuddin Indra, ST>, <Karyawan: Sarhan, ST>, <Karyawan: L. Agus Kurniadi, ST>, <Karyawan: Ni Made Yuyun Cahyani, ST>, <Karyawan: Dewi Kurniawati>, <Karyawan: Syahdan Yusup>, <Karyawan: Khairil Amri>, <Karyawan: Cicilia Evita Pankey>, <Karyawan: Justami>, <Karyawan: Jumarsah>, <Karyawan: Didik Suharianto, A.Md>, <Karyawan: Muslimin>, <Karyawan: Sukiman>, <Karyawan: Basri>]>"
      ]
     },
     "execution_count": 3,
     "metadata": {},
     "output_type": "execute_result"
    }
   ],
   "source": [
    "kr = Karyawan.objects.all()\n",
    "kr "
   ]
  },
  {
   "cell_type": "code",
   "execution_count": 5,
   "metadata": {
    "collapsed": true
   },
   "outputs": [],
   "source": [
    "def ListPendidikanTerakhir(krywn):\n",
    "    if len(krywn)>0:\n",
    "        target = [1,1,2,3,4,5]\n",
    "        cols = ['SD','SMP','SMA','DIII','Strata_satu','Strata_dua']\n",
    "\n",
    "        krn = {'nama': [a.nama for a in krywn]}\n",
    "        dfkrn = pd.DataFrame(data=krn)\n",
    "\n",
    "        pt = {\n",
    "            cols[0] : [int(a.pendidikanterakhirs.SD) for a in krywn],\n",
    "            cols[1] : [int(a.pendidikanterakhirs.SMP) for a in krywn],\n",
    "            cols[2] : [int(a.pendidikanterakhirs.SMA) for a in krywn],\n",
    "            cols[3] : [int(a.pendidikanterakhirs.DIII) for a in krywn],\n",
    "            cols[4] : [int(a.pendidikanterakhirs.Strata_satu) for a in krywn],\n",
    "            cols[5] : [int(a.pendidikanterakhirs.Strata_dua) for a in krywn],\n",
    "\n",
    "        }\n",
    "        dfpt = pd.DataFrame(data=pt)\n",
    "\n",
    "        gap = get_gap(dfpt, target)\n",
    "        pb = pembobotan(gap, cols)\n",
    "        new = pd.concat([dfkrn, pb], axis=1)\n",
    "        return new.as_matrix()\n",
    "    else:\n",
    "        return []"
   ]
  },
  {
   "cell_type": "code",
   "execution_count": 6,
   "metadata": {},
   "outputs": [
    {
     "name": "stderr",
     "output_type": "stream",
     "text": [
      "/opt/anaconda3/envs/skripsi/lib/python3.6/site-packages/ipykernel_launcher.py:23: FutureWarning: Method .as_matrix will be removed in a future version. Use .values instead.\n"
     ]
    },
    {
     "data": {
      "text/plain": [
       "array([[\"Istisqa' Febriani, SE\", 4.5, 4.5, 5, 4, 3, 1],\n",
       "       ['Hj.Syarifa Rafiah, S.SOS', 4.5, 4.5, 5, 4, 3, 1],\n",
       "       ['Ir. H. Ikhsan', 4.5, 4.5, 5, 4, 3, 1],\n",
       "       ['H. Irwan Harimansyah, St. Msi', 4.5, 4.5, 5, 4, 3, 2],\n",
       "       ['H. Muhammad Yamin, ST', 4.5, 4.5, 5, 4, 3, 1],\n",
       "       ['Lale Widiahning, ST', 4.5, 4.5, 5, 4, 3, 1],\n",
       "       ['Wahyuddin Indra, ST', 4.5, 4.5, 5, 4, 3, 1],\n",
       "       ['Sarhan, ST', 4.5, 4.5, 5, 4, 3, 1],\n",
       "       ['L. Agus Kurniadi, ST', 4.5, 4.5, 5, 4, 3, 1],\n",
       "       ['Ni Made Yuyun Cahyani, ST', 4.5, 4.5, 5, 4, 3, 1],\n",
       "       ['Dewi Kurniawati', 4.5, 4.5, 5, 3, 2, 1],\n",
       "       ['Syahdan Yusup', 4.5, 4.5, 5, 3, 2, 1],\n",
       "       ['Khairil Amri', 4.5, 4.5, 5, 3, 2, 1],\n",
       "       ['Cicilia Evita Pankey', 4.5, 4.5, 5, 3, 2, 1],\n",
       "       ['Justami', 4.5, 4.5, 5, 3, 2, 1],\n",
       "       ['Jumarsah', 4.5, 5.0, 4, 3, 2, 1],\n",
       "       ['Didik Suharianto, A.Md', 4.5, 4.5, 5, 4, 2, 1],\n",
       "       ['Muslimin', 4.5, 5.0, 4, 3, 2, 1],\n",
       "       ['Sukiman', 4.5, 5.0, 4, 3, 2, 1],\n",
       "       ['Basri', 4.5, 5.0, 4, 3, 2, 1]], dtype=object)"
      ]
     },
     "execution_count": 6,
     "metadata": {},
     "output_type": "execute_result"
    }
   ],
   "source": [
    "ListPendidikanTerakhir(kr)"
   ]
  },
  {
   "cell_type": "code",
   "execution_count": null,
   "metadata": {
    "collapsed": true
   },
   "outputs": [],
   "source": []
  }
 ],
 "metadata": {
  "kernelspec": {
   "display_name": "Django Shell-Plus",
   "language": "python",
   "name": "django_extensions"
  },
  "language_info": {
   "codemirror_mode": {
    "name": "ipython",
    "version": 3
   },
   "file_extension": ".py",
   "mimetype": "text/x-python",
   "name": "python",
   "nbconvert_exporter": "python",
   "pygments_lexer": "ipython3",
   "version": "3.6.5"
  }
 },
 "nbformat": 4,
 "nbformat_minor": 2
}
