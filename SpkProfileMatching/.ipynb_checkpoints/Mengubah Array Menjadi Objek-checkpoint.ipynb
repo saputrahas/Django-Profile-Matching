{
 "cells": [
  {
   "cell_type": "code",
   "execution_count": null,
   "metadata": {},
   "outputs": [],
   "source": [
    "class Kecerdasan:\n",
    "    def __init__(self):\n",
    "        self.nama = \"\"\n",
    "        self.sistematika_berfikir = \"\"\n",
    "        self.konsentrasi = \"\"\n",
    "        self.logika_praktis = \"\"\n",
    "        self.imajinasi_kreatif = \"\"\n",
    "        self.antisipasi = \"\""
   ]
  },
  {
   "cell_type": "code",
   "execution_count": null,
   "metadata": {},
   "outputs": [],
   "source": [
    "res = []\n",
    "for dt in ListKecerdasan(kr):\n",
    "    kec = Kecerdasan()\n",
    "    kec.nama = dt[0]\n",
    "    kec.sistematika_berfikir = dt[1]\n",
    "    kec.konsentrasi = dt[2]\n",
    "    kec.logika_praktis = dt[3]\n",
    "    kec.imajinasi_kreatif = dt[4]\n",
    "    kec.antisipasi = dt[5]\n",
    "    res.append(kec)"
   ]
  },
  {
   "cell_type": "code",
   "execution_count": null,
   "metadata": {},
   "outputs": [],
   "source": []
  }
 ],
 "metadata": {
  "kernelspec": {
   "display_name": "Python 3",
   "language": "python",
   "name": "python3"
  },
  "language_info": {
   "codemirror_mode": {
    "name": "ipython",
    "version": 3
   },
   "file_extension": ".py",
   "mimetype": "text/x-python",
   "name": "python",
   "nbconvert_exporter": "python",
   "pygments_lexer": "ipython3",
   "version": "3.6.5"
  }
 },
 "nbformat": 4,
 "nbformat_minor": 2
}
