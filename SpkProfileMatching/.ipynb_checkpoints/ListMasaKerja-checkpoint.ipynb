{
 "cells": [
  {
   "cell_type": "code",
   "execution_count": 1,
   "metadata": {},
   "outputs": [],
   "source": [
    "import pandas as pd\n",
    "from orm.models import Karyawan, Kecerdasan, MasaKerja, PendidikanTerakhir, Prilaku, SikapKerja "
   ]
  },
  {
   "cell_type": "code",
   "execution_count": 2,
   "metadata": {},
   "outputs": [],
   "source": [
    "def get_gap(df, target):\n",
    "    for idx in range(0,len(df)):\n",
    "        df.loc[idx] = df.loc[idx] - target\n",
    "    return df\n",
    "\n",
    "def bobot(x):\n",
    "    if x == 0 : return 5\n",
    "    elif x == 1 : return 4.5\n",
    "    elif x == -1 : return 4\n",
    "    elif x == 2 : return 3.5\n",
    "    elif x == -2 : return 3 \n",
    "    elif x == 3 : return 2.5\n",
    "    elif x == -3 : return 2\n",
    "    elif x == 4 : return 1.5\n",
    "    elif x == -4 : return 1\n",
    "    \n",
    "def pembobotan(df, cols):\n",
    "    for c in cols:\n",
    "        df[c] = df[c].apply(bobot)\n",
    "    return df \n",
    "\n",
    "#mendapatkan nilai core factor\n",
    "def get_cfsf(df1):\n",
    "    total_column = len(df1.columns)\n",
    "    cfsf = df1.sum(axis=1) / total_column\n",
    "    return cfsf\n",
    "\n",
    "#perhitungan nilai total\n",
    "def result(cf, sf):\n",
    "    cf = cf*0.6\n",
    "    sf = sf*0.4\n",
    "    total = cf + sf\n",
    "    return total"
   ]
  },
  {
   "cell_type": "code",
   "execution_count": 3,
   "metadata": {},
   "outputs": [
    {
     "data": {
      "text/plain": [
       "<QuerySet [<Karyawan: Istisqa' Febriani, SE>, <Karyawan: Hj.Syarifa Rafiah, S.SOS>, <Karyawan: Ir. H. Ikhsan>, <Karyawan: H. Irwan Harimansyah, St. Msi>, <Karyawan: H. Muhammad Yamin, ST>, <Karyawan: Lale Widiahning, ST>, <Karyawan: Wahyuddin Indra, ST>, <Karyawan: Sarhan, ST>, <Karyawan: L. Agus Kurniadi, ST>, <Karyawan: Ni Made Yuyun Cahyani, ST>, <Karyawan: Dewi Kurniawati>, <Karyawan: Syahdan Yusup>, <Karyawan: Khairil Amri>, <Karyawan: Cicilia Evita Pankey>, <Karyawan: Justami>, <Karyawan: Jumarsah>, <Karyawan: Didik Suharianto, A.Md>, <Karyawan: Muslimin>, <Karyawan: Sukiman>, <Karyawan: Basri>]>"
      ]
     },
     "execution_count": 3,
     "metadata": {},
     "output_type": "execute_result"
    }
   ],
   "source": [
    "mk = Karyawan.objects.all()\n",
    "mk "
   ]
  },
  {
   "cell_type": "code",
   "execution_count": null,
   "metadata": {},
   "outputs": [],
   "source": [
    "def ListKecerdasan(krywn):\n",
    "    if len(krywn)>0:\n",
    "        target = [4, 3, 4, 5, 3]\n",
    "        cols = [\n",
    "            'nol_sd_empat', 'lima_sd_delapan', 'sembilan_sd_tigaenam','tigabelas_sd_enambelas',\n",
    "            'tujuhbelas_sd_duapuluh','duasatu_sd_duaempat','dualima_sd_duadelapan',\n",
    "            'duasembilan_sd_tigadua','tigatiga_sd_tigaenam'\n",
    "        ]\n",
    "\n",
    "        krn = {'nama': [a.nama for a in krywn]}\n",
    "        dfkrn = pd.DataFrame(data=krn)\n",
    "\n",
    "        kec = {\n",
    "            cols[0] : [int(a.kecerdasans.sistematika_berfikir) for a in krywn],\n",
    "            cols[1] : [int(a.kecerdasans.konsentrasi) for a in krywn],\n",
    "            cols[2] : [int(a.kecerdasans.logika_praktis) for a in krywn],\n",
    "            cols[3] : [int(a.kecerdasans.imajinasi_kreatif) for a in krywn],\n",
    "            cols[4] : [int(a.kecerdasans.antisipasi) for a in krywn],\n",
    "        }\n",
    "        dfkec = pd.DataFrame(data=kec)\n",
    "\n",
    "        gap = get_gap(dfkec, target)\n",
    "        pb = pembobotan(gap, cols)\n",
    "        new = pd.concat([dfkrn, pb], axis=1)\n",
    "        return new.as_matrix()\n",
    "    else:\n",
    "        return []"
   ]
  }
 ],
 "metadata": {
  "kernelspec": {
   "display_name": "Django Shell-Plus",
   "language": "python",
   "name": "django_extensions"
  },
  "language_info": {
   "codemirror_mode": {
    "name": "ipython",
    "version": 3
   },
   "file_extension": ".py",
   "mimetype": "text/x-python",
   "name": "python",
   "nbconvert_exporter": "python",
   "pygments_lexer": "ipython3",
   "version": "3.6.5"
  }
 },
 "nbformat": 4,
 "nbformat_minor": 2
}
